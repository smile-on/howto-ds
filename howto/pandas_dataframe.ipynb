{
 "cells": [
  {
   "cell_type": "markdown",
   "metadata": {},
   "source": [
    "# How-to use data in Pandas.\n",
    "[Pandas](http://pandas.pydata.org/pandas-docs/stable/) uses datafarame as main data container. Ofter noted as **pd.DataFrame**. *DataFrame <> python array* for very good reason: it carries metadata with data to help magical calls dow the road to stay magical and be easy to use by data-scientist.\n",
    "\n",
    "This page demonstrates different ways to access data in dataframe.\n",
    "We need some toy df for the demonstration. Let's create one that consists of random numbers arranged in 6 rows and 4 columns. "
   ]
  },
  {
   "cell_type": "code",
   "execution_count": 1,
   "metadata": {},
   "outputs": [
    {
     "name": "stdout",
     "output_type": "stream",
     "text": [
      "              a         b         c         d\n",
      "idx0   0.496714 -0.138264  0.647689  1.523030\n",
      "idx2  -0.234153 -0.234137  1.579213  0.767435\n",
      "idx4  -0.469474  0.542560 -0.463418 -0.465730\n",
      "idx6   0.241962 -1.913280 -1.724918 -0.562288\n",
      "idx8  -1.012831  0.314247 -0.908024 -1.412304\n",
      "idx10  1.465649 -0.225776  0.067528 -1.424748\n"
     ]
    }
   ],
   "source": [
    "import pandas as pd\n",
    "import numpy as np\n",
    "\n",
    "np.random.seed(42)\n",
    "df1 = pd.DataFrame(\n",
    "        np.random.randn(6,4),       # content\n",
    "        index=[f'idx{i}' for i in range(0,12,2)],  # row's index\n",
    "        columns=['a','b','c','d']   # column names\n",
    "        )\n",
    "\n",
    "print(df1)"
   ]
  },
  {
   "cell_type": "markdown",
   "metadata": {},
   "source": [
    "## Access = select.\n",
    "Let's start with selecting a row in few ways possible. OK, let's select a third row 'idx4'. \n",
    "\n",
    "### By position\n",
    "Going with just specifing a single number does select a row as Series. This should be close to your intuition about old python arrays. A single raw of data is wrapped in **pd.Series**, the array of data is wrapped in **pd.DataFrame**. Such transformation getting a series out of dataframe is 'a cross section' in pandas terms.\n",
    "\n",
    "However the most often way to make a selection is to specify both start and end positions. Note, such select will return dataframe with one row, not just a row of data like above. Please be carefull with using \\[\\] versus \\(\\) they do different things here."
   ]
  },
  {
   "cell_type": "code",
   "execution_count": 2,
   "metadata": {},
   "outputs": [
    {
     "name": "stdout",
     "output_type": "stream",
     "text": [
      "a   -0.469474\n",
      "b    0.542560\n",
      "c   -0.463418\n",
      "d   -0.465730\n",
      "Name: idx4, dtype: float64 \n",
      " <class 'pandas.core.series.Series'> \n",
      "\n",
      "             a        b         c        d\n",
      "idx4 -0.469474  0.54256 -0.463418 -0.46573 \n",
      " <class 'pandas.core.frame.DataFrame'> \n",
      "\n"
     ]
    }
   ],
   "source": [
    "pos = 2\n",
    "\n",
    "#  a cross section\n",
    "s = df1.iloc[pos]\n",
    "print(s,'\\n', type(s),'\\n')\n",
    "\n",
    "# one row selcet\n",
    "df = df1[pos:pos+1]\n",
    "print(df,'\\n', type(df),'\\n')\n"
   ]
  },
  {
   "cell_type": "markdown",
   "metadata": {},
   "source": [
    "### By index\n",
    "In pandas documentation and code **index** also refered as **label** or **key**. The terms key, index originate in SQL data bases. Note the usage of '**:**' for indexing.\n"
   ]
  },
  {
   "cell_type": "code",
   "execution_count": 3,
   "metadata": {},
   "outputs": [
    {
     "name": "stdout",
     "output_type": "stream",
     "text": [
      "             a        b         c        d\n",
      "idx4 -0.469474  0.54256 -0.463418 -0.46573 \n",
      " <class 'pandas.core.frame.DataFrame'> \n",
      "\n",
      "idx0     0.496714\n",
      "idx2    -0.234153\n",
      "idx4    -0.469474\n",
      "idx6     0.241962\n",
      "idx8    -1.012831\n",
      "idx10    1.465649\n",
      "Name: a, dtype: float64 \n",
      " <class 'pandas.core.series.Series'> \n",
      "\n"
     ]
    }
   ],
   "source": [
    "df = df1['idx4' : 'idx4']\n",
    "print(df,'\\n', type(df),'\\n')\n",
    "\n",
    "# call with just one string is enterprited as selct by COLUMN\n",
    "# don't put index here\n",
    "df = df1['a']\n",
    "print(df,'\\n', type(df),'\\n')"
   ]
  },
  {
   "cell_type": "markdown",
   "metadata": {},
   "source": [
    "### Subset\n",
    "By far the common transformation is getting subset of datafarame. Let's get columns b,c and rows idx4 to idx8. Remember `list of columns` '**,**' with `slice of row indexes` '**:**'."
   ]
  },
  {
   "cell_type": "code",
   "execution_count": 17,
   "metadata": {},
   "outputs": [
    {
     "name": "stdout",
     "output_type": "stream",
     "text": [
      "             b         c\n",
      "idx4  0.542560 -0.463418\n",
      "idx6 -1.913280 -1.724918\n",
      "idx8  0.314247 -0.908024 \n",
      " <class 'pandas.core.frame.DataFrame'> \n",
      "\n",
      "             b         c\n",
      "idx4  0.542560 -0.463418\n",
      "idx6 -1.913280 -1.724918\n",
      "idx8  0.314247 -0.908024 \n",
      " <class 'pandas.core.frame.DataFrame'> \n",
      "\n",
      "             b         c\n",
      "idx4  0.542560 -0.463418\n",
      "idx6 -1.913280 -1.724918\n",
      "idx8  0.314247 -0.908024 \n",
      " <class 'pandas.core.frame.DataFrame'> \n",
      "\n"
     ]
    }
   ],
   "source": [
    "df = df1.loc['idx4':'idx8', ['b','c']]\n",
    "print(df,'\\n', type(df),'\\n')\n",
    "\n",
    "df = df1[['b','c']]['idx4':'idx8']\n",
    "print(df,'\\n', type(df),'\\n')\n",
    "\n",
    "df = df1['idx4':'idx8'][['b','c']]\n",
    "print(df,'\\n', type(df),'\\n')"
   ]
  },
  {
   "cell_type": "markdown",
   "metadata": {},
   "source": [
    "Learn more in pandas doc on [indexing](http://pandas.pydata.org/pandas-docs/stable/indexing.html#basics). Whitening the data deservs its own howto. Comming later."
   ]
  },
  {
   "cell_type": "markdown",
   "metadata": {},
   "source": [
    "## Save the data before analysis\n",
    "Quite often it takes few iterations to get analysis straight. After all your hard work on slicing and cleaning the data. Don't lose it. You can save dataframe into csv and load it later to do you calculations, many times. :) Note Pandas saves both data and metadata."
   ]
  },
  {
   "cell_type": "code",
   "execution_count": 22,
   "metadata": {},
   "outputs": [
    {
     "data": {
      "text/html": [
       "<div>\n",
       "<style>\n",
       "    .dataframe thead tr:only-child th {\n",
       "        text-align: right;\n",
       "    }\n",
       "\n",
       "    .dataframe thead th {\n",
       "        text-align: left;\n",
       "    }\n",
       "\n",
       "    .dataframe tbody tr th {\n",
       "        vertical-align: top;\n",
       "    }\n",
       "</style>\n",
       "<table border=\"1\" class=\"dataframe\">\n",
       "  <thead>\n",
       "    <tr style=\"text-align: right;\">\n",
       "      <th></th>\n",
       "      <th>a</th>\n",
       "      <th>b</th>\n",
       "      <th>c</th>\n",
       "      <th>d</th>\n",
       "    </tr>\n",
       "  </thead>\n",
       "  <tbody>\n",
       "    <tr>\n",
       "      <th>idx0</th>\n",
       "      <td>0.496714</td>\n",
       "      <td>-0.138264</td>\n",
       "      <td>0.647689</td>\n",
       "      <td>1.523030</td>\n",
       "    </tr>\n",
       "    <tr>\n",
       "      <th>idx2</th>\n",
       "      <td>-0.234153</td>\n",
       "      <td>-0.234137</td>\n",
       "      <td>1.579213</td>\n",
       "      <td>0.767435</td>\n",
       "    </tr>\n",
       "    <tr>\n",
       "      <th>idx4</th>\n",
       "      <td>-0.469474</td>\n",
       "      <td>0.542560</td>\n",
       "      <td>-0.463418</td>\n",
       "      <td>-0.465730</td>\n",
       "    </tr>\n",
       "    <tr>\n",
       "      <th>idx6</th>\n",
       "      <td>0.241962</td>\n",
       "      <td>-1.913280</td>\n",
       "      <td>-1.724918</td>\n",
       "      <td>-0.562288</td>\n",
       "    </tr>\n",
       "    <tr>\n",
       "      <th>idx8</th>\n",
       "      <td>-1.012831</td>\n",
       "      <td>0.314247</td>\n",
       "      <td>-0.908024</td>\n",
       "      <td>-1.412304</td>\n",
       "    </tr>\n",
       "    <tr>\n",
       "      <th>idx10</th>\n",
       "      <td>1.465649</td>\n",
       "      <td>-0.225776</td>\n",
       "      <td>0.067528</td>\n",
       "      <td>-1.424748</td>\n",
       "    </tr>\n",
       "  </tbody>\n",
       "</table>\n",
       "</div>"
      ],
      "text/plain": [
       "              a         b         c         d\n",
       "idx0   0.496714 -0.138264  0.647689  1.523030\n",
       "idx2  -0.234153 -0.234137  1.579213  0.767435\n",
       "idx4  -0.469474  0.542560 -0.463418 -0.465730\n",
       "idx6   0.241962 -1.913280 -1.724918 -0.562288\n",
       "idx8  -1.012831  0.314247 -0.908024 -1.412304\n",
       "idx10  1.465649 -0.225776  0.067528 -1.424748"
      ]
     },
     "execution_count": 22,
     "metadata": {},
     "output_type": "execute_result"
    }
   ],
   "source": [
    "df1.to_csv(\"random.csv\")\n",
    "\n",
    "df2 = pd.read_csv(\"random.csv\", index_col=0)\n",
    "df2"
   ]
  },
  {
   "cell_type": "code",
   "execution_count": 24,
   "metadata": {},
   "outputs": [
    {
     "data": {
      "text/plain": [
       "a    float64\n",
       "b    float64\n",
       "c    float64\n",
       "d    float64\n",
       "dtype: object"
      ]
     },
     "execution_count": 24,
     "metadata": {},
     "output_type": "execute_result"
    }
   ],
   "source": [
    "df2.dtypes"
   ]
  },
  {
   "cell_type": "code",
   "execution_count": 25,
   "metadata": {},
   "outputs": [
    {
     "data": {
      "text/plain": [
       "Index(['idx0', 'idx2', 'idx4', 'idx6', 'idx8', 'idx10'], dtype='object')"
      ]
     },
     "execution_count": 25,
     "metadata": {},
     "output_type": "execute_result"
    }
   ],
   "source": [
    "df2.index"
   ]
  }
 ],
 "metadata": {
  "kernelspec": {
   "display_name": "Python 3",
   "language": "python",
   "name": "python3"
  },
  "language_info": {
   "codemirror_mode": {
    "name": "ipython",
    "version": 3
   },
   "file_extension": ".py",
   "mimetype": "text/x-python",
   "name": "python",
   "nbconvert_exporter": "python",
   "pygments_lexer": "ipython3",
   "version": "3.6.2"
  }
 },
 "nbformat": 4,
 "nbformat_minor": 2
}
